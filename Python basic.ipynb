{
  "nbformat": 4,
  "nbformat_minor": 0,
  "metadata": {
    "colab": {
      "provenance": []
    },
    "kernelspec": {
      "name": "python3",
      "display_name": "Python 3"
    },
    "language_info": {
      "name": "python"
    }
  },
  "cells": [
    {
      "cell_type": "code",
      "execution_count": null,
      "metadata": {
        "id": "h4aHI4pqMb0Z"
      },
      "outputs": [],
      "source": []
    },
    {
      "cell_type": "markdown",
      "source": [
        "# Theory questions\n",
        "\n",
        "1. What is python and why is it popular\n",
        "\n",
        "- Python is a high-level, interpreted programming language known for its simplicity, readability, and versatility.\n",
        "\n",
        "python is popular for Simple Syntax , Versatility , large community , Cross Platform , Ideal for beginners , Strong support in Academia and industry\n",
        "\n",
        "2. What ia an interpretor in python\n",
        "\n",
        "- an interpreter is the program that reads and executes Python code line-by-line. Unlike compiled languages (like C or Java), which are first converted entirely into machine code before running, Python is interpreted at runtime.\n",
        "\n",
        "3. What are pre defined keywords in python\n",
        "\n",
        "- Predefined keywords (often just called keywords) in Python are reserved words that have special meaning in the language. You cannot use them as variable names, function names, or identifiers because they are part of Python’s syntax.\n",
        "\n",
        "Examples - Flase, true , None, and , or\n",
        "\n",
        "4. can keywords be used as variables name ?\n",
        "- No. it will confuse the interpreter\n",
        "\n",
        "5. What is Mutability in Python?\n",
        "- Mutability refers to whether or not an object can be changed after its created\n",
        "\n",
        "Mutable objects can be changed in place\n",
        "\n",
        "6. why are lists mutables but tuples are immutable ?\n",
        "\n",
        "- Lists are designed to hold sequences of itens that can change. we can add elements , remove elements , change elements by index.\n",
        "\n",
        "Tuples are designed to be fixed collections of items . their immutability provides safety , Hashbility , performance\n",
        "\n",
        "7. what are rhe difference between \"==\" and \"is\" operators in python?\n",
        "\n",
        "- Equality operator checks if the value of two objects are equal and it also looks inside the objects to see if their contents match\n",
        "\n",
        "is - identify operator checks if two variablkes refer to the same object in memory and it also checks whether a and b point to the exaxt same object not just equal content\n",
        "\n",
        "\n",
        "8. what are te logical operators in python ?\n",
        "\n",
        "- Logical operators are used to combine conditional statements (expressions that return True or False).\n",
        "\n",
        "Python has three main logical operators:\n",
        "\n",
        "and , or , not\n",
        "\n",
        "9.  What is Type Casting in Python?\n",
        "\n",
        "- Type casting (also called type conversion) is the process of converting one data type into another. This is useful when you need to perform operations between different types, like combining strings and numbers or working with user input (which is always a string by default).\n",
        "\n",
        "🔹 Two Types of Type Casting:\n",
        "\n",
        "1. Implicit Type Casting (done automatically by Python)\n",
        "\n",
        "2. Explicit Type Casting (done manually by you)\n",
        "\n",
        "10. Difference between impilcit and explicit type casting ?\n",
        "\n",
        "- Implicit Type Casting - Python automatically converts data types\n",
        "\n"
      ],
      "metadata": {
        "id": "jW4IiNyaMcbh"
      }
    },
    {
      "cell_type": "code",
      "source": [],
      "metadata": {
        "id": "ai_BwvAT_yTM"
      },
      "execution_count": null,
      "outputs": []
    },
    {
      "cell_type": "markdown",
      "source": [
        "10. what is the difference between implicit and explicit type casting\n",
        "\n",
        "- Implicit casting done automatically and happens when no data loss occurs. It also converts from a smaller to a larger precise\n",
        "\n",
        "Explicit casting is done by the programmer and it has to be manually convert one data type to another using functions like float , int , str\n",
        "\n",
        "11. what is the purpose of conditional statements in python\n",
        "\n",
        "- conditional statements control the flow of your program based on whether a condition is True or false\n",
        "\n",
        "12. how does the elif statement work ?\n",
        "\n",
        "- The elif statement is used to check multiple conditions in a structured way and to test more than one codition after an initial if\n",
        "\n",
        "13. What is the difference between for and while loop?\n",
        "\n",
        "- for loop: Use when you know the number of repetitions (e.g., looping over a list or range\n",
        "\n",
        "while loop: Use when the loop should continue until a condition changes (e.g., waiting for user input, a flag, etc.).\n",
        "\n",
        "14. Describe a scenario where a while loop is more suitable than a for loop?\n",
        "\n",
        "- Imagine you’re building a program that asks the user to enter a password.\n",
        "You don’t know how many attempts the user will need. In this case, a while loop is more suitable than a for loop.\n",
        "\n",
        "Why while is Better Here:\n",
        "\t•\tYou don’t know how many times the user will enter the wrong password.\n",
        "\t•\tThe loop should run as long as the condition (user_input != correct_password) is\n",
        "  \n",
        "  or would not work well here:\n",
        "\t•\tfor is designed to run a fixed number of times.\n",
        "\t•\tYou’d have to guess how many attempts the user might need.\n",
        "\n",
        "  Use a while loop when:\n",
        "\t•\tYou want to repeat something until a condition is met.\n",
        "\t•\tYou don’t know in advance how many times the loop should run."
      ],
      "metadata": {
        "id": "z8NAxzn9Mnv9"
      }
    },
    {
      "cell_type": "markdown",
      "source": [
        "# Practical Questions\n",
        "\n",
        "\n"
      ],
      "metadata": {
        "id": "kVPE9kueACsG"
      }
    },
    {
      "cell_type": "markdown",
      "source": [],
      "metadata": {
        "id": "2JQZLutGALz0"
      }
    },
    {
      "cell_type": "markdown",
      "source": [
        " 1. Write a Python program to Print Hello World ?"
      ],
      "metadata": {
        "id": "74xftqJzANfN"
      }
    },
    {
      "cell_type": "code",
      "source": [
        "print (\"Hello , World\")"
      ],
      "metadata": {
        "colab": {
          "base_uri": "https://localhost:8080/"
        },
        "id": "Ag88f4NmAXFa",
        "outputId": "6dad3fc5-27d3-4b15-8a12-e4f16593509d"
      },
      "execution_count": null,
      "outputs": [
        {
          "output_type": "stream",
          "name": "stdout",
          "text": [
            "Hello , World\n"
          ]
        }
      ]
    },
    {
      "cell_type": "markdown",
      "source": [],
      "metadata": {
        "id": "pii0U62KAexX"
      }
    },
    {
      "cell_type": "markdown",
      "source": [
        "2. Write a Python program that display your name and age ?"
      ],
      "metadata": {
        "id": "EER4bpCRAgvW"
      }
    },
    {
      "cell_type": "code",
      "source": [
        "name = \"Pritam Barik\"\n",
        "age = 25\n",
        "\n",
        "print(name)\n",
        "print(age, \"years old.\")"
      ],
      "metadata": {
        "colab": {
          "base_uri": "https://localhost:8080/"
        },
        "id": "01L8yugRESw9",
        "outputId": "b4bedea0-dd10-4dda-dd55-500d2f257d99"
      },
      "execution_count": null,
      "outputs": [
        {
          "output_type": "stream",
          "name": "stdout",
          "text": [
            "Pritam Barik\n",
            "25 years old.\n"
          ]
        }
      ]
    },
    {
      "cell_type": "markdown",
      "source": [],
      "metadata": {
        "id": "PFIfbFePFlHZ"
      }
    },
    {
      "cell_type": "markdown",
      "source": [
        "3. write a code to prin all the pew -defined keywords in python using the keyboard library ?"
      ],
      "metadata": {
        "id": "aIg2DstiFoGi"
      }
    },
    {
      "cell_type": "code",
      "source": [
        "import keyword\n",
        "\n",
        "# Get the key of all python keywords\n",
        "keywords_list = keyword.kwlist\n",
        "\n",
        "# Print all the keywords\n",
        "print(\"Python Keywords:\")\n",
        "for kw in keywords_list:\n",
        "    print(kw)"
      ],
      "metadata": {
        "colab": {
          "base_uri": "https://localhost:8080/"
        },
        "id": "9a655Z0BFt2x",
        "outputId": "bb43578c-5d94-4a89-feeb-acf21e064f44"
      },
      "execution_count": null,
      "outputs": [
        {
          "output_type": "stream",
          "name": "stdout",
          "text": [
            "Python Keywords:\n",
            "False\n",
            "None\n",
            "True\n",
            "and\n",
            "as\n",
            "assert\n",
            "async\n",
            "await\n",
            "break\n",
            "class\n",
            "continue\n",
            "def\n",
            "del\n",
            "elif\n",
            "else\n",
            "except\n",
            "finally\n",
            "for\n",
            "from\n",
            "global\n",
            "if\n",
            "import\n",
            "in\n",
            "is\n",
            "lambda\n",
            "nonlocal\n",
            "not\n",
            "or\n",
            "pass\n",
            "raise\n",
            "return\n",
            "try\n",
            "while\n",
            "with\n",
            "yield\n"
          ]
        }
      ]
    },
    {
      "cell_type": "code",
      "source": [],
      "metadata": {
        "id": "LtEZeO49FzRL"
      },
      "execution_count": null,
      "outputs": []
    },
    {
      "cell_type": "markdown",
      "source": [
        "4. write a program that checks if a given word is a python keyword ?"
      ],
      "metadata": {
        "id": "RsjA64k2GOLU"
      }
    },
    {
      "cell_type": "code",
      "source": [
        "import keyword\n",
        "\n",
        "word = input(\"Enter a word: \")\n",
        "\n",
        "if keyword.iskeyword(word):\n",
        "    print(f\"'{word}' is a Python keyword.\")\n",
        "else:\n",
        "    print(f\"'{word}' is NOT a Python keyword.\")"
      ],
      "metadata": {
        "colab": {
          "base_uri": "https://localhost:8080/"
        },
        "id": "U1Jj5GtjGQuz",
        "outputId": "f4e04441-af72-4aa3-b7df-4517832a645e"
      },
      "execution_count": null,
      "outputs": [
        {
          "output_type": "stream",
          "name": "stdout",
          "text": [
            "Enter a word: word\n",
            "'word' is NOT a Python keyword.\n"
          ]
        }
      ]
    },
    {
      "cell_type": "code",
      "source": [],
      "metadata": {
        "id": "ob-w_JifGUXa"
      },
      "execution_count": null,
      "outputs": []
    },
    {
      "cell_type": "markdown",
      "source": [
        "5. create a list and tuple in python and demonstrate how attempting to change an element works differently for each ?"
      ],
      "metadata": {
        "id": "yxxV32H3G-fZ"
      }
    },
    {
      "cell_type": "code",
      "source": [
        "my_list = [10, 20, 30]\n",
        "my_tuple = (10, 20, 30)\n",
        "\n",
        "print(\"Original list:\", my_list)\n",
        "my_list[1] = 99\n",
        "print(\"Modified list:\", my_list)\n",
        "\n",
        "print(\"Original tuple:\", my_tuple)\n",
        "try:\n",
        "    my_tuple[1] = 99\n",
        "except TypeError as e:\n",
        "    print(\"Error when trying to modify tuple:\", e)"
      ],
      "metadata": {
        "colab": {
          "base_uri": "https://localhost:8080/"
        },
        "id": "9hTcQfvTHAQz",
        "outputId": "2da2f91d-be5b-4ab1-eba1-92a4c060d5d4"
      },
      "execution_count": null,
      "outputs": [
        {
          "output_type": "stream",
          "name": "stdout",
          "text": [
            "Original list: [10, 20, 30]\n",
            "Modified list: [10, 99, 30]\n",
            "Original tuple: (10, 20, 30)\n",
            "Error when trying to modify tuple: 'tuple' object does not support item assignment\n"
          ]
        }
      ]
    },
    {
      "cell_type": "code",
      "source": [],
      "metadata": {
        "id": "QTvGvQw0HDsv"
      },
      "execution_count": null,
      "outputs": []
    },
    {
      "cell_type": "markdown",
      "source": [
        "6. write a function to demonstrate the behavior of mutable and immutable arguments ?"
      ],
      "metadata": {
        "id": "7Osl4J41Hds_"
      }
    },
    {
      "cell_type": "code",
      "source": [
        "def change_values(my_list, my_number):\n",
        "    my_list.append(10)\n",
        "    my_number = my_number + 5\n",
        "\n",
        "    print(\"Inside function:\")\n",
        "    print(\"List:\", my_list)\n",
        "    print(\"Number:\", my_number)\n",
        "\n",
        "numbers = [1, 2, 3]\n",
        "count = 100\n",
        "\n",
        "change_values(numbers, count)\n",
        "\n",
        "print(\"Outside function:\")\n",
        "print(\"List:\", numbers)\n",
        "print(\"Number:\", count)"
      ],
      "metadata": {
        "colab": {
          "base_uri": "https://localhost:8080/"
        },
        "id": "8TJS64wnHfl8",
        "outputId": "a6f8f7be-60e5-411c-db6f-c63ad1ccc835"
      },
      "execution_count": null,
      "outputs": [
        {
          "output_type": "stream",
          "name": "stdout",
          "text": [
            "Inside function:\n",
            "List: [1, 2, 3, 10]\n",
            "Number: 105\n",
            "Outside function:\n",
            "List: [1, 2, 3, 10]\n",
            "Number: 100\n"
          ]
        }
      ]
    },
    {
      "cell_type": "code",
      "source": [],
      "metadata": {
        "id": "dT6--egfIgzk"
      },
      "execution_count": null,
      "outputs": []
    },
    {
      "cell_type": "markdown",
      "source": [
        "7. write a program that performs basic arithmetic operations on two user input numbers?"
      ],
      "metadata": {
        "id": "bNbOmg9PIjfq"
      }
    },
    {
      "cell_type": "code",
      "source": [
        "\n",
        "num1 = float(input(\"Enter first number: \"))\n",
        "num2 = float(input(\"Enter second number: \"))\n",
        "\n",
        "\n",
        "add = num1 + num2\n",
        "subtract = num1 - num2\n",
        "multiply = num1 * num2\n",
        "\n",
        "if num2 != 0:\n",
        "    divide = num1 / num2\n",
        "else:\n",
        "    divide = \"Cannot divide by zero\"\n",
        "\n",
        "print(\"Addition:\", add)\n",
        "print(\"Subtraction:\", subtract)\n",
        "print(\"Multiplication:\", multiply)\n",
        "print(\"Division:\", divide)"
      ],
      "metadata": {
        "colab": {
          "base_uri": "https://localhost:8080/"
        },
        "id": "BRiyjw0EIlYE",
        "outputId": "f34979b2-4b87-4ec9-a419-d524d8d8da13"
      },
      "execution_count": null,
      "outputs": [
        {
          "output_type": "stream",
          "name": "stdout",
          "text": [
            "Enter first number: 10\n",
            "Enter second number: 2\n",
            "Addition: 12.0\n",
            "Subtraction: 8.0\n",
            "Multiplication: 20.0\n",
            "Division: 5.0\n"
          ]
        }
      ]
    },
    {
      "cell_type": "code",
      "source": [],
      "metadata": {
        "id": "xnN6MwzQIo4q"
      },
      "execution_count": null,
      "outputs": []
    },
    {
      "cell_type": "markdown",
      "source": [
        "8. write a program to demonstrate the use of logical operators?"
      ],
      "metadata": {
        "id": "4QyJHaPGJLyU"
      }
    },
    {
      "cell_type": "code",
      "source": [
        "a = int(input(\"Enter first number: \"))\n",
        "b = int(input(\"Enter second number: \"))\n",
        "\n",
        "if a > 0 and b > 0:\n",
        "    print(\"Both numbers are positive.\")\n",
        "\n",
        "if a > 0 or b > 0:\n",
        "    print(\"At least one number is positive.\")\n",
        "\n",
        "if not (a < 0):\n",
        "    print(\"First number is NOT negative.\")"
      ],
      "metadata": {
        "colab": {
          "base_uri": "https://localhost:8080/"
        },
        "id": "CDzBRgkRJPTN",
        "outputId": "3bacc996-efaf-4715-ca49-f79a7c9e09d6"
      },
      "execution_count": null,
      "outputs": [
        {
          "output_type": "stream",
          "name": "stdout",
          "text": [
            "Enter first number: 5\n",
            "Enter second number: -3\n",
            "At least one number is positive.\n",
            "First number is NOT negative.\n"
          ]
        }
      ]
    },
    {
      "cell_type": "code",
      "source": [],
      "metadata": {
        "id": "c3SDP96yJSHZ"
      },
      "execution_count": null,
      "outputs": []
    },
    {
      "cell_type": "markdown",
      "source": [
        "9. write a python program to convert user inout from string to integer , float and boolean types?"
      ],
      "metadata": {
        "id": "4arSga5sJmIR"
      }
    },
    {
      "cell_type": "code",
      "source": [
        "user_input = input(\"Enter a value: \")\n",
        "\n",
        "try:\n",
        "    int_value = int(user_input)\n",
        "    print(\"Integer:\", int_value)\n",
        "except ValueError:\n",
        "    print(\"Cannot convert to integer.\")\n",
        "\n",
        "try:\n",
        "    float_value = float(user_input)\n",
        "    print(\"Float:\", float_value)\n",
        "except ValueError:\n",
        "    print(\"Cannot convert to float.\")\n",
        "\n",
        "bool_value = bool(user_input)\n",
        "print(\"Boolean:\", bool_value)"
      ],
      "metadata": {
        "colab": {
          "base_uri": "https://localhost:8080/"
        },
        "id": "CdM1B1s-JqKF",
        "outputId": "f654c713-0d1c-460b-f7dc-104bede4d480"
      },
      "execution_count": null,
      "outputs": [
        {
          "output_type": "stream",
          "name": "stdout",
          "text": [
            "Enter a value: 123\n",
            "Integer: 123\n",
            "Float: 123.0\n",
            "Boolean: True\n"
          ]
        }
      ]
    },
    {
      "cell_type": "code",
      "source": [],
      "metadata": {
        "id": "03kWJ-wjJtma"
      },
      "execution_count": null,
      "outputs": []
    },
    {
      "cell_type": "markdown",
      "source": [
        "10. write a code to demonstrate type casting with list elements ?"
      ],
      "metadata": {
        "id": "Biz5d-BmJ9Y-"
      }
    },
    {
      "cell_type": "code",
      "source": [
        "string_list = [\"10\", \"20\", \"30\", \"40\"]\n",
        "\n",
        "print(\"Original list (strings):\", string_list)\n",
        "\n",
        "int_list = [int(item) for item in string_list]\n",
        "print(\"List after casting to integers:\", int_list)\n",
        "\n",
        "float_list = [float(item) for item in string_list]\n",
        "print(\"List after casting to floats:\", float_list)\n",
        "\n",
        "str_list = [str(item) for item in int_list]\n",
        "print(\"List after casting back to strings:\", str_list)"
      ],
      "metadata": {
        "colab": {
          "base_uri": "https://localhost:8080/"
        },
        "id": "QMmvyfBPKCxj",
        "outputId": "31e2daea-9cbc-4c0b-c24d-02ead8490503"
      },
      "execution_count": null,
      "outputs": [
        {
          "output_type": "stream",
          "name": "stdout",
          "text": [
            "Original list (strings): ['10', '20', '30', '40']\n",
            "List after casting to integers: [10, 20, 30, 40]\n",
            "List after casting to floats: [10.0, 20.0, 30.0, 40.0]\n",
            "List after casting back to strings: ['10', '20', '30', '40']\n"
          ]
        }
      ]
    },
    {
      "cell_type": "code",
      "source": [],
      "metadata": {
        "id": "hrn-cR7VKHKr"
      },
      "execution_count": null,
      "outputs": []
    },
    {
      "cell_type": "markdown",
      "source": [
        "11. write a program that checks if a number is positive , negative or zero ?"
      ],
      "metadata": {
        "id": "_sUNPloyKIDK"
      }
    },
    {
      "cell_type": "code",
      "source": [
        "\n",
        "num = float(input(\"Enter a number: \"))\n",
        "\n",
        "if num > 0:\n",
        "    print(\"The number is positive.\")\n",
        "elif num < 0:\n",
        "    print(\"The number is negative.\")\n",
        "else:\n",
        "    print(\"The number is zero.\")"
      ],
      "metadata": {
        "colab": {
          "base_uri": "https://localhost:8080/"
        },
        "id": "9_cm-TeCKSVk",
        "outputId": "5af96fe7-b1a7-405d-950b-73bbe381695d"
      },
      "execution_count": null,
      "outputs": [
        {
          "output_type": "stream",
          "name": "stdout",
          "text": [
            "Enter a number: 5\n",
            "The number is positive.\n"
          ]
        }
      ]
    },
    {
      "cell_type": "code",
      "source": [],
      "metadata": {
        "id": "4WqOwd2vKUea"
      },
      "execution_count": null,
      "outputs": []
    },
    {
      "cell_type": "markdown",
      "source": [
        "12. write a for loop to print numbers from 1 to 10"
      ],
      "metadata": {
        "id": "qA-WMOgDKerm"
      }
    },
    {
      "cell_type": "code",
      "source": [
        "for i in range(1, 11):\n",
        "    print(i)"
      ],
      "metadata": {
        "colab": {
          "base_uri": "https://localhost:8080/"
        },
        "id": "5XdWJRPRKtMx",
        "outputId": "d04578a1-8a50-46a0-90b5-8f4ab4e2907c"
      },
      "execution_count": null,
      "outputs": [
        {
          "output_type": "stream",
          "name": "stdout",
          "text": [
            "1\n",
            "2\n",
            "3\n",
            "4\n",
            "5\n",
            "6\n",
            "7\n",
            "8\n",
            "9\n",
            "10\n"
          ]
        }
      ]
    },
    {
      "cell_type": "code",
      "source": [],
      "metadata": {
        "id": "S_mtdugtKt1d"
      },
      "execution_count": null,
      "outputs": []
    },
    {
      "cell_type": "markdown",
      "source": [
        "13. write a python program to find the sum of all even numbers between 1 to 10"
      ],
      "metadata": {
        "id": "tUDkLC8MKuzg"
      }
    },
    {
      "cell_type": "code",
      "source": [
        "sum_even = 0\n",
        "\n",
        "for i in range(1, 11):\n",
        "    if i % 2 == 0:\n",
        "        sum_even += i\n",
        "\n",
        "print(\"Sum of even numbers from 1 to 10 is:\", sum_even)"
      ],
      "metadata": {
        "colab": {
          "base_uri": "https://localhost:8080/"
        },
        "id": "4PoHimWlK7iA",
        "outputId": "0cb26d27-3088-41e7-903b-2aa16e401f63"
      },
      "execution_count": null,
      "outputs": [
        {
          "output_type": "stream",
          "name": "stdout",
          "text": [
            "Sum of even numbers from 1 to 10 is: 30\n"
          ]
        }
      ]
    },
    {
      "cell_type": "code",
      "source": [],
      "metadata": {
        "id": "LpHos87HK9wS"
      },
      "execution_count": null,
      "outputs": []
    },
    {
      "cell_type": "markdown",
      "source": [
        "14. write a program to reverse a string using a while loop"
      ],
      "metadata": {
        "id": "0-Kp6IdULSv2"
      }
    },
    {
      "cell_type": "code",
      "source": [
        "text = input(\"Enter a string: \")\n",
        "\n",
        "reversed_text = \"\"\n",
        "\n",
        "index = len(text) - 1\n",
        "\n",
        "while index >= 0:\n",
        "    reversed_text += text[index]\n",
        "    index -= 1\n",
        "\n",
        "print(\"Reversed string:\", reversed_text)"
      ],
      "metadata": {
        "colab": {
          "base_uri": "https://localhost:8080/"
        },
        "id": "uzxWEkHzLUMv",
        "outputId": "42b811da-cc17-4e34-c697-3c247d24c03a"
      },
      "execution_count": null,
      "outputs": [
        {
          "output_type": "stream",
          "name": "stdout",
          "text": [
            "Enter a string: Hello\n",
            "Reversed string: olleH\n"
          ]
        }
      ]
    },
    {
      "cell_type": "code",
      "source": [],
      "metadata": {
        "id": "GjXtJ23-LYft"
      },
      "execution_count": null,
      "outputs": []
    },
    {
      "cell_type": "markdown",
      "source": [
        "15. write a python program to calculate the facterial of a number provided by the user using a while loop"
      ],
      "metadata": {
        "id": "6KrWdsJtMRJZ"
      }
    },
    {
      "cell_type": "code",
      "source": [
        "num = int(input(\"Enter a number: \"))\n",
        "factorial = 1\n",
        "n = num\n",
        "while n > 1:\n",
        "    factorial *= n\n",
        "    n -= 1\n",
        "\n",
        "print(f\"Factorial of {num} is: {factorial}\")"
      ],
      "metadata": {
        "colab": {
          "base_uri": "https://localhost:8080/"
        },
        "id": "acpVVQcfMUnN",
        "outputId": "d7c7c966-17cd-40cd-a829-faba7ea429f4"
      },
      "execution_count": null,
      "outputs": [
        {
          "output_type": "stream",
          "name": "stdout",
          "text": [
            "Enter a number: 6\n",
            "Factorial of 6 is: 720\n"
          ]
        }
      ]
    },
    {
      "cell_type": "code",
      "source": [],
      "metadata": {
        "id": "UBl7KVFhMXHa"
      },
      "execution_count": null,
      "outputs": []
    }
  ]
}